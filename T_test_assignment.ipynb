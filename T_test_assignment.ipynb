{
  "nbformat": 4,
  "nbformat_minor": 0,
  "metadata": {
    "colab": {
      "provenance": [],
      "authorship_tag": "ABX9TyPPzFCF216RyjKoi3gTtcwr",
      "include_colab_link": true
    },
    "kernelspec": {
      "name": "python3",
      "display_name": "Python 3"
    },
    "language_info": {
      "name": "python"
    }
  },
  "cells": [
    {
      "cell_type": "markdown",
      "metadata": {
        "id": "view-in-github",
        "colab_type": "text"
      },
      "source": [
        "<a href=\"https://colab.research.google.com/github/Mounikamuniganti/DAV_Fundamentals/blob/main/T_test_assignment.ipynb\" target=\"_parent\"><img src=\"https://colab.research.google.com/assets/colab-badge.svg\" alt=\"Open In Colab\"/></a>"
      ]
    },
    {
      "cell_type": "code",
      "execution_count": null,
      "metadata": {
        "id": "84ydd-NG4xFo"
      },
      "outputs": [],
      "source": [
        "import numpy as np\n",
        "from scipy.stats import norm\n",
        "from scipy.stats import ttest_1samp, ttest_ind\n"
      ]
    },
    {
      "cell_type": "code",
      "source": [
        "1-norm.cdf(1.64)"
      ],
      "metadata": {
        "colab": {
          "base_uri": "https://localhost:8080/"
        },
        "id": "CcyEEmVV5HPQ",
        "outputId": "03f84688-9c91-44de-eb66-77dc80447fba"
      },
      "execution_count": null,
      "outputs": [
        {
          "output_type": "execute_result",
          "data": {
            "text/plain": [
              "0.050502583474103746"
            ]
          },
          "metadata": {},
          "execution_count": 5
        }
      ]
    },
    {
      "cell_type": "code",
      "source": [
        "import scipy.stats as stats\n",
        "import numpy as np\n",
        "\n",
        "# Define sample mean, standard deviation, and sample size\n",
        "sample_mean = 1.85\n",
        "population_std = 0.5\n",
        "sample_size = 30\n",
        "population_mean = 1.7\n",
        "\n",
        "# Calculate z-score\n",
        "z_score = (sample_mean - population_mean) / (population_std / np.sqrt(sample_size))\n",
        "\n",
        "# Round z-score to two decimal places\n",
        "z_score = np.round(z_score, 2)\n",
        "\n",
        "# Set alpha and critical z-score (use two-tailed since direction is unknown)\n",
        "alpha = 0.05\n",
        "critical_z = 1.96\n",
        "\n",
        "# Check if the z-score is greater than the critical z-value\n",
        "if abs(z_score) > critical_z:\n",
        "   print(f\"z-score: {z_score}\")\n",
        "   print(\"Reject the null hypothesis. The average tea consumption is likely different from the estimate.\")\n",
        "else:\n",
        "   print(f\"z-score: {z_score}\")\n",
        "   print(\"Fail to reject the null hypothesis. There is not enough evidence to support a difference from the estimated average.\")\n"
      ],
      "metadata": {
        "colab": {
          "base_uri": "https://localhost:8080/"
        },
        "id": "CljBhXgd507X",
        "outputId": "a83fa43b-5a17-4cc9-d130-371704f0c66e"
      },
      "execution_count": null,
      "outputs": [
        {
          "output_type": "stream",
          "name": "stdout",
          "text": [
            "z-score: 1.64\n",
            "Fail to reject the null hypothesis. There is not enough evidence to support a difference from the estimated average.\n"
          ]
        }
      ]
    },
    {
      "cell_type": "markdown",
      "source": [
        "# **Q1. Green Gram Yield**\n",
        "\n",
        "Traditionally it is known that a green gram cultivation yields 12.0 quintals per hectare on an average.\n",
        "\n",
        "In order to increase crop yields, scientists have developed a new variety of green grams, that can supposedly produce more than the expected average yield of 12 quintals per hectare.\n",
        "\n",
        "To test the same, this variety of green grams was tested on 10 randomly selected farmer's fields.\n",
        "\n",
        "The yield (quintals/hectare) was recorded as: [14.3,12.6,13.7,10.9,13.7,12.0,11.4,12.0,12.6,13.1]\n",
        "\n",
        "With a 5% significance level, can we conclude that the average yield of this variety of green grams is more than the expected yield (12 quintals/hectare)?"
      ],
      "metadata": {
        "id": "jjsIlbqEXeYa"
      }
    },
    {
      "cell_type": "code",
      "source": [
        "#H0 : mu1=mu2=12\n",
        "#Ha : mu1<mu2 (average yield is more than expected yield i.e., mu2>mu1)\n",
        "n=10\n",
        "alpha=0.05\n",
        "yields=[14.3,12.6,13.7,10.9,13.7,12.0,11.4,12.0,12.6,13.1]\n",
        "\n",
        "t_stat,p_value = ttest_1samp(yields,12,alternative='greater')\n",
        "print(p_value)\n",
        "if p_value<alpha:\n",
        "  print('Reject Ho')\n",
        "  print('average yield is more than expected yield')\n",
        "else:\n",
        "  print('Fail to Reject Ho')"
      ],
      "metadata": {
        "colab": {
          "base_uri": "https://localhost:8080/"
        },
        "id": "G4eF_746S7Si",
        "outputId": "ff8e8040-9448-4f4e-d529-33ab032fea14"
      },
      "execution_count": null,
      "outputs": [
        {
          "output_type": "stream",
          "name": "stdout",
          "text": [
            "0.04979938002326665\n",
            "Reject Ho\n",
            "average yield is more than expected yield\n"
          ]
        }
      ]
    },
    {
      "cell_type": "markdown",
      "source": [
        "# **Q2. Average British man height**\n",
        "\n",
        "The average British man is 175.3 cm tall. A survey recorded the heights of 10 UK men and we want to know whether the mean of the sample is different from the population mean.\n",
        "\n",
        "survey_height = [177.3, 182.7, 169.6, 176.3, 180.3, 179.4, 178.5, 177.2, 181.8, 176.5]\n",
        "\n",
        "Perform an appropriate test and choose the correct option below, that we can conclude with a 5% significance."
      ],
      "metadata": {
        "id": "fc1FvJY4Xiyz"
      }
    },
    {
      "cell_type": "code",
      "source": [
        "#H0 : mu1=mu2=175.3 (sample mean and poplulation mean are same)\n",
        "#Ha : mu1!=mu2 (sample mean and poplulation mean are different)\n",
        "alpha=0.05\n",
        "survey_height = [177.3, 182.7, 169.6, 176.3, 180.3, 179.4, 178.5, 177.2, 181.8, 176.5]\n",
        "\n",
        "t_stat,p_value = ttest_1samp(survey_height,175.3,alternative='two-sided')\n",
        "print(t_stat,p_value)\n",
        "if p_value<alpha:\n",
        "  print('Reject Ho')\n",
        "  print('sample mean and poplulation mean are different')\n",
        "else:\n",
        "  print('Fail to Reject H0, sample mean and poplulation mean are same')"
      ],
      "metadata": {
        "colab": {
          "base_uri": "https://localhost:8080/"
        },
        "id": "K66Yj88eWU8G",
        "outputId": "8d9f26e9-15b7-46ca-a046-5535aa13c7d9"
      },
      "execution_count": null,
      "outputs": [
        {
          "output_type": "stream",
          "name": "stdout",
          "text": [
            "2.295568968083183 0.04734137339747034\n",
            "Reject Ho\n",
            "sample mean and poplulation mean are different\n"
          ]
        }
      ]
    },
    {
      "cell_type": "markdown",
      "source": [
        "# **Q3. Potato Yield**\n",
        "\n",
        "Uttar Pradesh is popular for it's potato varieties. We know that the standard potato yield for the given variety is µ = 20.\n",
        "\n",
        "A sample of potato yield from 12 different farms was collected and observed as follows:\n",
        "\n",
        "x = [21.5, 24.5, 18.5, 17.2, 14.5, 23.2, 22.1, 20.5, 19.4, 18.1, 24.1, 18.5]\n",
        "Test if the potato yield from these farms is significantly higher than the standard yield with 5% significance level.\n",
        "\n",
        "Perform T-test and choose the correct option below :"
      ],
      "metadata": {
        "id": "b6-qYD04XvDt"
      }
    },
    {
      "cell_type": "code",
      "source": [
        "#H0 : mu1=mu2=20 (Potato yield from these farms is same as standard yield)\n",
        "#Ha : mu1!=mu2 (Potato yield from these farms is higher than standard yield)\n",
        "alpha=0.05\n",
        "x = [21.5, 24.5, 18.5, 17.2, 14.5, 23.2, 22.1, 20.5, 19.4, 18.1, 24.1, 18.5]\n",
        "\n",
        "t_stat,p_value = ttest_1samp(x,20,alternative='greater')\n",
        "print(t_stat,p_value)\n",
        "if p_value<alpha:\n",
        "  print('Reject Ho')\n",
        "  print('Potato yield from these farms is higher than standard yield')\n",
        "else:\n",
        "  print('Fail to Reject H0, Potato yield from these farms is same as standard yield')"
      ],
      "metadata": {
        "colab": {
          "base_uri": "https://localhost:8080/"
        },
        "id": "5JFZKrOwYHKI",
        "outputId": "5fafce1e-aad7-446d-eaeb-012acd957dc5"
      },
      "execution_count": null,
      "outputs": [
        {
          "output_type": "stream",
          "name": "stdout",
          "text": [
            "0.2006562773994862 0.4223145946526807\n",
            "Fail to Reject H0, Potato yield from these farms is same as standard yield\n"
          ]
        }
      ]
    },
    {
      "cell_type": "markdown",
      "source": [
        "# **Q4. Gym body fat percentage**\n",
        "\n",
        "Samples of Body fat percentages of few gym going men and women are recorded.\n",
        "\n",
        "men = [13.3, 6.0, 20.0, 8.0, 14.0, 19.0, 18.0, 25.0, 16.0, 24.0, 15.0, 1.0, 15.0]\n",
        "women = [22.0, 16.0, 21.7, 21.0, 30.0, 26.0, 12.0, 23.2, 28.0, 23.0]\n",
        "Perform an appropriate test to check if the mean body fat percentage of men and women is statistically different.\n",
        "\n",
        "Assume the significance level to be 5%.\n",
        "\n",
        "Choose the correct option below :"
      ],
      "metadata": {
        "id": "wZQOcSuqX3yt"
      }
    },
    {
      "cell_type": "code",
      "source": [
        "#H0 : mu1=mu2=20 (Body fat percentage of gym going men and women are same)\n",
        "#Ha : mu1!=mu2 (Body fat percentage of gym going men and women are statistically different)\n",
        "alpha=0.05\n",
        "men = [13.3, 6.0, 20.0, 8.0, 14.0, 19.0, 18.0, 25.0, 16.0, 24.0, 15.0, 1.0, 15.0]\n",
        "women = [22.0, 16.0, 21.7, 21.0, 30.0, 26.0, 12.0, 23.2, 28.0, 23.0]\n",
        "\n",
        "t_stat,p_value = ttest_ind(men,women,alternative='two-sided')\n",
        "print(t_stat,p_value)\n",
        "if p_value<alpha:\n",
        "  print('Reject Ho')\n",
        "  print('Body fat percentage of gym going men and women are statistically different')\n",
        "else:\n",
        "  print('Fail to Reject H0, Body fat percentage of gym going men and women are same')"
      ],
      "metadata": {
        "colab": {
          "base_uri": "https://localhost:8080/"
        },
        "id": "tuTypK3uZIuO",
        "outputId": "f3ae1640-6312-4b09-f3af-28d5eb1533a2"
      },
      "execution_count": null,
      "outputs": [
        {
          "output_type": "stream",
          "name": "stdout",
          "text": [
            "-2.799960442832919 0.010730607904197957\n",
            "Reject Ho\n",
            "Body fat percentage of gym going men and women are statistically different\n"
          ]
        }
      ]
    },
    {
      "cell_type": "markdown",
      "source": [
        "# **Q5. Two Schools IQ**\n",
        "\n",
        "Samples of IQ scores are collected from two competing schools, as follows:\n",
        "\n",
        "school_1 = [115, 111, 112, 101, 95, 98, 100, 90, 89, 108]\n",
        "school_2 = [107, 103, 91, 99, 104, 98, 117, 113, 92, 96, 108, 115, 116, 88]\n",
        "Perform an appropriate test with a 5% significance level to check if there is any statistically significant difference in the mean IQ's of these schools.\n",
        "\n",
        "Choose the correct option below :"
      ],
      "metadata": {
        "id": "9Sjt36RUX8z-"
      }
    },
    {
      "cell_type": "code",
      "source": [
        "#H0 : mu1=mu2=20 (IQ scores of the two schools are same)\n",
        "#Ha : mu1!=mu2 (IQ scores of the two schools are statistically different)\n",
        "alpha=0.05\n",
        "school_1 = [115, 111, 112, 101, 95, 98, 100, 90, 89, 108]\n",
        "school_2 = [107, 103, 91, 99, 104, 98, 117, 113, 92, 96, 108, 115, 116, 88]\n",
        "\n",
        "t_stat,p_value = ttest_ind(school_1,school_2,alternative='two-sided')\n",
        "print(t_stat,p_value)\n",
        "if p_value<alpha:\n",
        "  print('Reject Ho')\n",
        "  print('IQ scores of the two schools are statistically different')\n",
        "else:\n",
        "  print('Fail to Reject H0, IQ scores of the two schools are same')"
      ],
      "metadata": {
        "colab": {
          "base_uri": "https://localhost:8080/"
        },
        "id": "QaMCGQM6aBs5",
        "outputId": "51577bba-55e9-4c3a-aed8-8ec84afc0931"
      },
      "execution_count": null,
      "outputs": [
        {
          "output_type": "stream",
          "name": "stdout",
          "text": [
            "-0.36928503344341035 0.7154458095186707\n",
            "Fail to Reject H0, IQ scores of the two schools are same\n"
          ]
        }
      ]
    }
  ]
}