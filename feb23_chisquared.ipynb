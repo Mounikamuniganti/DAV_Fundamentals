{
  "nbformat": 4,
  "nbformat_minor": 0,
  "metadata": {
    "colab": {
      "provenance": [],
      "authorship_tag": "ABX9TyMniT8NnJ1l2Iip3LkOtAl1",
      "include_colab_link": true
    },
    "kernelspec": {
      "name": "python3",
      "display_name": "Python 3"
    },
    "language_info": {
      "name": "python"
    }
  },
  "cells": [
    {
      "cell_type": "markdown",
      "metadata": {
        "id": "view-in-github",
        "colab_type": "text"
      },
      "source": [
        "<a href=\"https://colab.research.google.com/github/adityajain2407/feb23-dav-3/blob/main/feb23_chisquared.ipynb\" target=\"_parent\"><img src=\"https://colab.research.google.com/assets/colab-badge.svg\" alt=\"Open In Colab\"/></a>"
      ]
    },
    {
      "cell_type": "code",
      "execution_count": null,
      "metadata": {
        "id": "_76SxJRu7XT2"
      },
      "outputs": [],
      "source": [
        "import numpy as np\n",
        "import pandas as pd\n",
        "\n",
        "from scipy.stats import chisquare #statistical test\n",
        "from scipy.stats import chi2\n",
        "from scipy.stats import chi2_contingency"
      ]
    },
    {
      "cell_type": "markdown",
      "source": [
        "#coin toss"
      ],
      "metadata": {
        "id": "aXzmBCYPFR_0"
      }
    },
    {
      "cell_type": "code",
      "source": [
        "#H0: Coin is fair\n",
        "#Ha: coin is biased"
      ],
      "metadata": {
        "id": "zVe2sK5HFI0g"
      },
      "execution_count": null,
      "outputs": []
    },
    {
      "cell_type": "code",
      "source": [
        "alpha = 0.05\n",
        "\n",
        "chi_stat , p_value = chisquare(\n",
        "    [28, 22] , #observed\n",
        "    [25, 25]\n",
        ")\n",
        "\n",
        "print(chi_stat)"
      ],
      "metadata": {
        "colab": {
          "base_uri": "https://localhost:8080/"
        },
        "id": "R-lXZGjSFV6Z",
        "outputId": "d0d00519-de85-4668-e755-de9e0270a641"
      },
      "execution_count": null,
      "outputs": [
        {
          "output_type": "stream",
          "name": "stdout",
          "text": [
            "0.72\n"
          ]
        }
      ]
    },
    {
      "cell_type": "code",
      "source": [
        "((28-25)**2)/25 + ((22-25)**2)/25"
      ],
      "metadata": {
        "colab": {
          "base_uri": "https://localhost:8080/"
        },
        "id": "MGqfAwD4Fy35",
        "outputId": "4a2e14ea-7d73-4485-db88-55db51fbed7d"
      },
      "execution_count": null,
      "outputs": [
        {
          "output_type": "execute_result",
          "data": {
            "text/plain": [
              "0.72"
            ]
          },
          "metadata": {},
          "execution_count": 5
        }
      ]
    },
    {
      "cell_type": "code",
      "source": [
        "print(p_value)"
      ],
      "metadata": {
        "colab": {
          "base_uri": "https://localhost:8080/"
        },
        "id": "pjZsvZ4fGCgd",
        "outputId": "a4732c9e-ed2b-4ced-b7d3-28708f78b578"
      },
      "execution_count": null,
      "outputs": [
        {
          "output_type": "stream",
          "name": "stdout",
          "text": [
            "0.3961439091520741\n"
          ]
        }
      ]
    },
    {
      "cell_type": "code",
      "source": [
        "1 - chi2.cdf(0.72, df = 1) #finding p-value this way using chi2 stat value"
      ],
      "metadata": {
        "colab": {
          "base_uri": "https://localhost:8080/"
        },
        "id": "P1lNs4VgGLML",
        "outputId": "d345d9f5-b026-49e9-844a-e84ab6ad0710"
      },
      "execution_count": null,
      "outputs": [
        {
          "output_type": "execute_result",
          "data": {
            "text/plain": [
              "0.3961439091520741"
            ]
          },
          "metadata": {},
          "execution_count": 8
        }
      ]
    },
    {
      "cell_type": "code",
      "source": [
        "#find critical value of chisquare with 95% confidence: 5% significance"
      ],
      "metadata": {
        "id": "wrV-626nGd6m"
      },
      "execution_count": null,
      "outputs": []
    },
    {
      "cell_type": "code",
      "source": [
        "chi2.ppf(0.95, df=1)"
      ],
      "metadata": {
        "colab": {
          "base_uri": "https://localhost:8080/"
        },
        "id": "SzFcvPZpG2PI",
        "outputId": "227615c5-b5c7-45f5-e945-be9c03175d10"
      },
      "execution_count": null,
      "outputs": [
        {
          "output_type": "execute_result",
          "data": {
            "text/plain": [
              "3.841458820694124"
            ]
          },
          "metadata": {},
          "execution_count": 10
        }
      ]
    },
    {
      "cell_type": "code",
      "source": [
        "if p_value < alpha:\n",
        "  print(\"Reject H0\")"
      ],
      "metadata": {
        "id": "1dfp3K_VG9rk"
      },
      "execution_count": null,
      "outputs": []
    },
    {
      "cell_type": "markdown",
      "source": [
        "#Gender vs offline and online"
      ],
      "metadata": {
        "id": "x5OeVQ4cMAIO"
      }
    },
    {
      "cell_type": "code",
      "source": [
        "#Testing independence with chi2_contingency\n",
        "\n",
        "#HW--> explore crosstab --> pandas"
      ],
      "metadata": {
        "id": "bEnEmETZIBd3"
      },
      "execution_count": null,
      "outputs": []
    },
    {
      "cell_type": "code",
      "source": [
        "#H0: Gender and Preference are independent\n",
        "#Ha: Gender is dependent of preference (online/offline)\n",
        "\n",
        "\n",
        "observed = [\n",
        "    [527, 72],\n",
        "    [206, 102]\n",
        "]\n",
        "\n",
        "chi_stat, p_value, df , exp_freq = chi2_contingency(observed)\n",
        "print(chi_stat)\n",
        "print(p_value)\n",
        "print(df)\n",
        "print(exp_freq)\n",
        "\n",
        "if p_value < alpha:\n",
        "  print(\"Reject H0\")\n",
        "  print(\"Gender has impact on Preference\")\n",
        "else:\n",
        "  print(\"Fail to reject\")\n",
        "  print(\"Gender has no impact on preference\")"
      ],
      "metadata": {
        "id": "GAMvdHS9MF98",
        "colab": {
          "base_uri": "https://localhost:8080/"
        },
        "outputId": "d954ee0b-e129-4aaf-cf6c-7b281393042f"
      },
      "execution_count": null,
      "outputs": [
        {
          "output_type": "stream",
          "name": "stdout",
          "text": [
            "57.04098674049609\n",
            "4.268230756875865e-14\n",
            "1\n",
            "[[484.08710033 114.91289967]\n",
            " [248.91289967  59.08710033]]\n",
            "Reject H0\n",
            "Gender has impact on Preference\n"
          ]
        }
      ]
    },
    {
      "cell_type": "code",
      "source": [
        "0.66*733"
      ],
      "metadata": {
        "colab": {
          "base_uri": "https://localhost:8080/"
        },
        "id": "KFffwEBIPAw9",
        "outputId": "abb98a51-f493-4dd2-94bb-bda0d643e67e"
      },
      "execution_count": null,
      "outputs": [
        {
          "output_type": "execute_result",
          "data": {
            "text/plain": [
              "483.78000000000003"
            ]
          },
          "metadata": {},
          "execution_count": 24
        }
      ]
    },
    {
      "cell_type": "code",
      "source": [
        "#Assumptions of Chi2 test"
      ],
      "metadata": {
        "id": "al_4j9ZxPF4m"
      },
      "execution_count": null,
      "outputs": []
    },
    {
      "cell_type": "code",
      "source": [
        "'''\n",
        "Both the variables are categorical\n",
        "Observations are independent\n",
        "Each cell is mutually exclusive\n",
        "Expected value in each cell is greater than 5\n",
        "'''"
      ],
      "metadata": {
        "colab": {
          "base_uri": "https://localhost:8080/",
          "height": 35
        },
        "id": "NbTx_2SdShJ2",
        "outputId": "498e3879-4bed-455b-e9df-eec131e7527a"
      },
      "execution_count": null,
      "outputs": [
        {
          "output_type": "execute_result",
          "data": {
            "text/plain": [
              "'\\nBoth the variables are categorical\\nObservations are independent\\nEach cell is mutually exclusive\\nExpected value in each cell is greater than 5\\n'"
            ],
            "application/vnd.google.colaboratory.intrinsic+json": {
              "type": "string"
            }
          },
          "metadata": {},
          "execution_count": 28
        }
      ]
    },
    {
      "cell_type": "code",
      "source": [
        "#Aerofit--> Gender has impact on buying of product or not--> each product (stdy crosstab)"
      ],
      "metadata": {
        "id": "cWVl6TIkS_tc"
      },
      "execution_count": null,
      "outputs": []
    },
    {
      "cell_type": "code",
      "source": [],
      "metadata": {
        "id": "TTB65SBGUFg2"
      },
      "execution_count": null,
      "outputs": []
    }
  ]
}