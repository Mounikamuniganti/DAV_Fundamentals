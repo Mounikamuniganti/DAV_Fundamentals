{
  "nbformat": 4,
  "nbformat_minor": 0,
  "metadata": {
    "colab": {
      "provenance": [],
      "authorship_tag": "ABX9TyMKXIhSAyrsSXvthqE5U75y",
      "include_colab_link": true
    },
    "kernelspec": {
      "name": "python3",
      "display_name": "Python 3"
    },
    "language_info": {
      "name": "python"
    }
  },
  "cells": [
    {
      "cell_type": "markdown",
      "metadata": {
        "id": "view-in-github",
        "colab_type": "text"
      },
      "source": [
        "<a href=\"https://colab.research.google.com/github/Mounikamuniganti/DAV_Fundamentals/blob/main/Advanced_Distributions_2_Assignment.ipynb\" target=\"_parent\"><img src=\"https://colab.research.google.com/assets/colab-badge.svg\" alt=\"Open In Colab\"/></a>"
      ]
    },
    {
      "cell_type": "code",
      "execution_count": 3,
      "metadata": {
        "id": "kcCkWE7JPrgC"
      },
      "outputs": [],
      "source": [
        "import numpy as np\n",
        "import pandas as pd\n",
        "\n",
        "from scipy.stats import expon, poisson, ttest_rel"
      ]
    },
    {
      "cell_type": "markdown",
      "source": [
        "# **Q1. Railway Booking**\n",
        "\n",
        "For a certain railway agency, the number of days people book their rail ticket in advance can be modeled by an exponential distribution, with the average amount of time to be 4 days. Based on this data, how many days in advance do 75% of all travelers book tickets?"
      ],
      "metadata": {
        "id": "-onkn6llQAxU"
      }
    },
    {
      "cell_type": "code",
      "source": [
        "expon.cdf(x=4,scale=4)"
      ],
      "metadata": {
        "id": "UhiPDmyZQD0R"
      },
      "execution_count": null,
      "outputs": []
    },
    {
      "cell_type": "markdown",
      "source": [
        "# **Q2. Analyze the time**\n",
        "\n",
        "You are hired as a data scientist for the company SellMart.\n",
        "\n",
        "Your first task is to analyze the durations of customer support call.\n",
        "\n",
        "On an average, a customer care executive takes about 5 minutes to solve the issue of any customer. It is known that the time taken follows an exponential distribution.\n",
        "\n",
        "Find the probability that an executive spends 4 to 5 minutes with any randomly selected customer."
      ],
      "metadata": {
        "id": "vnag2MVmQ_7z"
      }
    },
    {
      "cell_type": "code",
      "source": [
        "expon.cdf(x=5,scale=5)-expon.cdf(x=4,scale=5)"
      ],
      "metadata": {
        "colab": {
          "base_uri": "https://localhost:8080/"
        },
        "id": "k7MiqZ7hRDpD",
        "outputId": "22c45f64-88c9-4ec2-cc04-4a15b88d901f"
      },
      "execution_count": 20,
      "outputs": [
        {
          "output_type": "execute_result",
          "data": {
            "text/plain": [
              "0.08144952294577923"
            ]
          },
          "metadata": {},
          "execution_count": 20
        }
      ]
    },
    {
      "cell_type": "markdown",
      "source": [
        "# **Q3. customers spend**\n",
        "\n",
        "The amount of money customers spend in one trip to the supermarket follows an exponential distribution with a mean amount of Rs 1000.\n",
        "\n",
        "If a customer has Rs 600 in the wallet, what is the probability that the customer will need more money?\n",
        "\n",
        "Note: Round the output up to 2 decimal places."
      ],
      "metadata": {
        "id": "XWy-F9fBRD-r"
      }
    },
    {
      "cell_type": "code",
      "source": [
        "1-expon.cdf(x=600,scale=1000)"
      ],
      "metadata": {
        "colab": {
          "base_uri": "https://localhost:8080/"
        },
        "id": "bqjGSFRARJ30",
        "outputId": "3795d04c-ba78-451a-f199-9b45ffbd5a3f"
      },
      "execution_count": 19,
      "outputs": [
        {
          "output_type": "execute_result",
          "data": {
            "text/plain": [
              "0.5488116360940264"
            ]
          },
          "metadata": {},
          "execution_count": 19
        }
      ]
    },
    {
      "cell_type": "markdown",
      "source": [
        "# **Q4. running shoes**\n",
        "\n",
        "A new pair of running shoes of Brank X are known to last 6 months, on an average, assuming that they are used every day.\n",
        "\n",
        "It is known that the duration of their lifespan follows exponential distributed.\n",
        "\n",
        "If a pair has already lasted 5 months, find the probability that it will last a total of over 9 months."
      ],
      "metadata": {
        "id": "YupLFCDqRL0I"
      }
    },
    {
      "cell_type": "code",
      "source": [
        "scale=6\n",
        "#p(x>9)/p(x>5)=p(x>4)=1-p(x<=4)\n",
        "\n",
        "1-expon.cdf(x=4,scale=6)"
      ],
      "metadata": {
        "colab": {
          "base_uri": "https://localhost:8080/"
        },
        "id": "Y9rOXPPsROxD",
        "outputId": "74ccf0ca-e35b-4df2-8033-8671ad4dbce1"
      },
      "execution_count": 18,
      "outputs": [
        {
          "output_type": "execute_result",
          "data": {
            "text/plain": [
              "0.513417119032592"
            ]
          },
          "metadata": {},
          "execution_count": 18
        }
      ]
    },
    {
      "cell_type": "markdown",
      "source": [
        "## **Q5. Life of Gadget**\n",
        "\n",
        "Suppose that the lifespan of an electronic gadget (in years) follows an exponential distribution. The average life span of an Electronic Gadget is known to be 2 years.\n",
        "\n",
        "Find the probability that :\n",
        "\n",
        "i) It will work for at least 6 years.\n",
        "\n",
        "ii) It will work for at most 6 years.\n",
        "\n",
        "Note: Round the output up to 2 decimal places."
      ],
      "metadata": {
        "id": "xceoMzJoRRJS"
      }
    },
    {
      "cell_type": "code",
      "source": [
        "#P(X>=6)=1-P(X<6)=1-P(X<=5)\n",
        "p1=1-expon.cdf(x=6,scale=2)\n",
        "#P(X<=6)\n",
        "p2=expon.cdf(x=6,scale=2)\n",
        "\n",
        "p1,p2"
      ],
      "metadata": {
        "colab": {
          "base_uri": "https://localhost:8080/"
        },
        "id": "cwezodGuRQrn",
        "outputId": "2c6fbaf8-d396-4314-ce7a-c6a29a6d9e12"
      },
      "execution_count": 8,
      "outputs": [
        {
          "output_type": "execute_result",
          "data": {
            "text/plain": [
              "(0.04978706836786395, 0.950212931632136)"
            ]
          },
          "metadata": {},
          "execution_count": 8
        }
      ]
    },
    {
      "cell_type": "markdown",
      "source": [
        "# **Q6. Test the Training Program**\n",
        "\n",
        "You are appointed as a Data Analyst for a training program deployed by the Government of India.\n",
        "\n",
        "The participants’ skills were tested before and after the training using some metrics on a scale of 10.\n",
        "\n",
        "before = [2.45, 0.69, 1.80, 2.80, 0.07, 1.67, 2.93, 0.47, 1.45, 1.34]   \n",
        "\n",
        "\n",
        "after = [7.71, 2.17, 5.65, 8.79, 0.23, 5.23, 9.19, 1.49, 4.56, 4.20]\n",
        "\n",
        "\n",
        "Conduct an appropriate test to assess a statistically significant increase in the average skill score after the training program, and then answer the below questions accordingly.\n",
        "\n",
        "Note: Perform the test at alpha = 5%."
      ],
      "metadata": {
        "id": "UnBA2JEMRq7B"
      }
    },
    {
      "cell_type": "code",
      "source": [
        "before = [2.45, 0.69, 1.80, 2.80, 0.07, 1.67, 2.93, 0.47, 1.45, 1.34]\n",
        "\n",
        "after = [7.71, 2.17, 5.65, 8.79, 0.23, 5.23, 9.19, 1.49, 4.56, 4.20]\n",
        "\n",
        "alpha=0.05\n",
        "\n",
        "t_stat,p_value = ttest_rel(before,after,alternative='less')\n",
        "print(t_stat)\n",
        "print(p_value)\n",
        "if p_value<alpha:\n",
        "  print(' positive effect of the training')\n",
        "else:\n",
        "  print('No effect of the training')\n"
      ],
      "metadata": {
        "colab": {
          "base_uri": "https://localhost:8080/"
        },
        "id": "n-2sa_oIRvaA",
        "outputId": "2099d36f-c474-4a93-9aec-3f77efd913b9"
      },
      "execution_count": 17,
      "outputs": [
        {
          "output_type": "stream",
          "name": "stdout",
          "text": [
            "-5.111096450191605\n",
            "0.00031778119819482275\n",
            " positive effect of the training\n"
          ]
        }
      ]
    },
    {
      "cell_type": "markdown",
      "source": [
        "# **Q7. Zumba trainer**\n",
        "\n",
        "The Zumba trainer claims to the customers, that their new dance routine helps to reduce more weight.\n",
        "\n",
        "Weight of 8 people were recorded before and after following the new Zumba training for a month:\n",
        "\n",
        "wt_before = [85, 74, 63.5, 69.4, 71.6, 65,90,78]\n",
        "\n",
        "\n",
        "wt_after = [82, 71, 64, 65.2, 67.8, 64.7,95,77]\n",
        "\n",
        "Test the trainer's claim with 90% confidence. Further, what would be the pvalue?"
      ],
      "metadata": {
        "id": "GeCef8wGRyBZ"
      }
    },
    {
      "cell_type": "code",
      "source": [
        "wt_before = [85, 74, 63.5, 69.4, 71.6, 65,90,78]\n",
        "\n",
        "wt_after = [82, 71, 64, 65.2, 67.8, 64.7,95,77]\n",
        "alpha=0.10\n",
        "\n",
        "t_stat,p_value = ttest_rel(wt_before,wt_after,alternative='greater')\n",
        "print(p_value)\n",
        "if p_value<alpha:\n",
        "  print('Customers have reduced their weight')\n",
        "else:\n",
        "  print('Customers did not reduce their weight')"
      ],
      "metadata": {
        "colab": {
          "base_uri": "https://localhost:8080/"
        },
        "id": "rYqjBZfAR15C",
        "outputId": "bc64e6f7-e61d-4af2-e58e-6dff20e3fbad"
      },
      "execution_count": 15,
      "outputs": [
        {
          "output_type": "stream",
          "name": "stdout",
          "text": [
            "0.14546808501326386\n",
            "Customers did not reduce their weight\n"
          ]
        }
      ]
    }
  ]
}