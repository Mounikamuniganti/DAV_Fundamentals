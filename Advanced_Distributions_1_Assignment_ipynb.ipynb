{
  "nbformat": 4,
  "nbformat_minor": 0,
  "metadata": {
    "colab": {
      "provenance": [],
      "authorship_tag": "ABX9TyOUaXeWtqKJi7X+kD41foZ9",
      "include_colab_link": true
    },
    "kernelspec": {
      "name": "python3",
      "display_name": "Python 3"
    },
    "language_info": {
      "name": "python"
    }
  },
  "cells": [
    {
      "cell_type": "markdown",
      "metadata": {
        "id": "view-in-github",
        "colab_type": "text"
      },
      "source": [
        "<a href=\"https://colab.research.google.com/github/Mounikamuniganti/DAV_Fundamentals/blob/main/Advanced_Distributions_1_Assignment_ipynb.ipynb\" target=\"_parent\"><img src=\"https://colab.research.google.com/assets/colab-badge.svg\" alt=\"Open In Colab\"/></a>"
      ]
    },
    {
      "cell_type": "code",
      "execution_count": 1,
      "metadata": {
        "id": "WMiX0erUNS7M"
      },
      "outputs": [],
      "source": [
        "import numpy as np\n",
        "import pandas as pd\n",
        "from scipy.stats import expon, poisson, ttest_rel"
      ]
    },
    {
      "cell_type": "markdown",
      "source": [
        "# **Q1. Power failure**\n",
        "\n",
        "If electricity power failures occur according to a poisson distribution with an average of three failures every 20 weeks.\n",
        "\n",
        "Calculate the probability that there will not be more than one power failure during a week.\n",
        "\n",
        "(Round off the values to 4 decimal points)"
      ],
      "metadata": {
        "id": "pud8Xi4hNrWC"
      }
    },
    {
      "cell_type": "code",
      "source": [
        "new_rate = 3/20\n",
        "\n",
        "poisson.cdf(k=1,mu=3/20)"
      ],
      "metadata": {
        "colab": {
          "base_uri": "https://localhost:8080/"
        },
        "id": "IZRkpJV9Nojx",
        "outputId": "9c4ab41f-d948-4429-b688-ec01aa5f0a8e"
      },
      "execution_count": 5,
      "outputs": [
        {
          "output_type": "execute_result",
          "data": {
            "text/plain": [
              "0.9898141728888165"
            ]
          },
          "metadata": {},
          "execution_count": 5
        }
      ]
    },
    {
      "cell_type": "markdown",
      "source": [
        "# **Q2. 240 vehicles per hour**\n",
        "\n",
        "An observer counts 240 vehicles per hour (3600 seconds) at a specific vehicle arrival location on a highway.\n",
        "\n",
        "Assume that the arrivals follow the poisson distribution, What is the probability of one vehicle arriving over a 30-second time interval?"
      ],
      "metadata": {
        "id": "CJUnQ0gjOHQq"
      }
    },
    {
      "cell_type": "code",
      "source": [
        "k=1\n",
        "mu= 240/3600\n",
        "t= 30\n",
        "\n",
        "# 240 messages--------------> 1 hour(3600 sec)\n",
        "#       ?   -------------->   30 sec\n",
        "#     ? = 240*30/3600 = mu*t\n",
        "\n",
        "poisson.pmf(k,mu*t)"
      ],
      "metadata": {
        "colab": {
          "base_uri": "https://localhost:8080/"
        },
        "id": "-CBLs85iOMH8",
        "outputId": "0678896a-343d-49d5-82f6-0ed738509266"
      },
      "execution_count": 7,
      "outputs": [
        {
          "output_type": "execute_result",
          "data": {
            "text/plain": [
              "0.2706705664732254"
            ]
          },
          "metadata": {},
          "execution_count": 7
        }
      ]
    },
    {
      "cell_type": "markdown",
      "source": [
        "# **Q3. Acre plot**\n",
        "\n",
        "Suppose that trees are distributed in a forest according to a Poisson process with a rate of λ per acre. The expected number of trees per acre is equal to 74.\n",
        "\n",
        "\n",
        "\n",
        "What is the probability that in a certain quarter-acre plot, there will be at most 15 trees?\n",
        "\n",
        "What is the probability that in a certain quarter-acre plot, there will be at least 7 trees?"
      ],
      "metadata": {
        "id": "waXMbcOYP8Rt"
      }
    },
    {
      "cell_type": "code",
      "source": [
        "#74 trees -----> 1 acre\n",
        "#  ? ------> 1/4 acre\n",
        "# ? = 74/4\n",
        "\n",
        "mu=74/4\n",
        "\n",
        "#probability that in a certain quarter-acre plot, there will be at most 15 trees---> P(X<=15)\n",
        "print(poisson.cdf(k=15,mu=74/4))\n",
        "\n",
        "#probability that in a certain quarter-acre plot, there will be at least 7 trees---> P(X>=7)=1-P(X<7)=1-P(X<=6)\n",
        "print(1-poisson.cdf(k=6,mu=74/4))"
      ],
      "metadata": {
        "colab": {
          "base_uri": "https://localhost:8080/"
        },
        "id": "nDJkjbv3QJUN",
        "outputId": "9be432a9-83c0-4e46-cbc8-aaf60a9a23c8"
      },
      "execution_count": 12,
      "outputs": [
        {
          "output_type": "stream",
          "name": "stdout",
          "text": [
            "0.24902769151284776\n",
            "0.9992622541111789\n"
          ]
        }
      ]
    },
    {
      "cell_type": "markdown",
      "source": [
        "# **Q4. Birthday**\n",
        "\n",
        "You go to a party of 500 guests. What is the probability that exactly one other guest has the same birthday as you?\n",
        "\n",
        "Note: Exclude birthdays on February 29."
      ],
      "metadata": {
        "id": "_z8EqdOXScWR"
      }
    },
    {
      "cell_type": "code",
      "source": [
        "p = 1/365\n",
        "n = 499\n",
        "mu = n * p\n",
        "x=1\n",
        "poisson.pmf(x,mu)\n"
      ],
      "metadata": {
        "colab": {
          "base_uri": "https://localhost:8080/"
        },
        "id": "A76akdS1SgFU",
        "outputId": "b57c7573-edb8-4638-d9b7-518308851d61"
      },
      "execution_count": 13,
      "outputs": [
        {
          "output_type": "execute_result",
          "data": {
            "text/plain": [
              "0.34839633781319934"
            ]
          },
          "metadata": {},
          "execution_count": 13
        }
      ]
    },
    {
      "cell_type": "markdown",
      "source": [
        "**# Q5. Theft of Credit Cards**\n",
        "\n",
        "0.02% of credit card holders of a company report theft of their credit cards each month. The company has a total of 15,000 credit cards.\n",
        "\n",
        "a. What is the probability that no one reports theft of credit cards during the next month?\n",
        "\n",
        "b. Determine the expected number of reported stolen credit cards in a month."
      ],
      "metadata": {
        "id": "l-rJefmNTF7g"
      }
    },
    {
      "cell_type": "code",
      "source": [
        "n=15000\n",
        "p=0.02/100\n",
        "mu = n*p\n",
        "k=0\n",
        "\n",
        "print(poisson.pmf(k,mu))\n",
        "print(mu)"
      ],
      "metadata": {
        "colab": {
          "base_uri": "https://localhost:8080/"
        },
        "id": "5KRxhWTfTNFk",
        "outputId": "d042aafd-eab3-4d6e-e2b1-413ee97a1e51"
      },
      "execution_count": 15,
      "outputs": [
        {
          "output_type": "stream",
          "name": "stdout",
          "text": [
            "0.049787068367863944\n",
            "3.0\n"
          ]
        }
      ]
    }
  ]
}