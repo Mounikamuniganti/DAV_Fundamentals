{
  "nbformat": 4,
  "nbformat_minor": 0,
  "metadata": {
    "colab": {
      "provenance": [],
      "collapsed_sections": [
        "wzfPLyWqaJ1I",
        "bVOxaO1haWDv",
        "9zvFumVrbnnM",
        "llhbX9N-ccdl",
        "Ywl_91q-ch-n"
      ],
      "authorship_tag": "ABX9TyMkGItsfDw73COw26Ig1L/s",
      "include_colab_link": true
    },
    "kernelspec": {
      "name": "python3",
      "display_name": "Python 3"
    },
    "language_info": {
      "name": "python"
    }
  },
  "cells": [
    {
      "cell_type": "markdown",
      "metadata": {
        "id": "view-in-github",
        "colab_type": "text"
      },
      "source": [
        "<a href=\"https://colab.research.google.com/github/Mounikamuniganti/DAV_Fundamentals/blob/main/Z_Test_Assignment.ipynb\" target=\"_parent\"><img src=\"https://colab.research.google.com/assets/colab-badge.svg\" alt=\"Open In Colab\"/></a>"
      ]
    },
    {
      "cell_type": "code",
      "execution_count": null,
      "metadata": {
        "id": "IV6WxkJHaCd0"
      },
      "outputs": [],
      "source": [
        "import numpy as np\n",
        "from scipy.stats import norm\n",
        "from scipy.stats import stats"
      ]
    },
    {
      "cell_type": "markdown",
      "source": [
        "# **Q1. Short state**\n",
        "\n",
        "A country has a population average height of 65 inches with a standard deviation of 2.5. A person feels people from his state are shorter. He takes the average of 20 people and sees that it is 64.5.\n",
        "\n",
        "At a 5% significance level (or 95% confidence level), can we conclude that people from his state are shorter, using the Z-test? What is the p-value?"
      ],
      "metadata": {
        "id": "wzfPLyWqaJ1I"
      }
    },
    {
      "cell_type": "code",
      "source": [
        "#H0: people from the state are not shorter\n",
        "#Ha: people from the state are shorter\n",
        "\n",
        "z = (64.5 - 65) / (2.5 / np.sqrt(20))\n",
        "pval = norm.cdf(z)\n",
        "\n",
        "print(\"P-Value:\",pval)\n",
        "\n",
        "alpha = 0.05\n",
        "if pval < alpha:\n",
        "  print(\"Reject the null hypothesis\")\n",
        "  print(\"people from the state are shorter\")\n",
        "else:\n",
        "  print(\"Fail to reject the null hypothesis\")\n",
        "  print(\"people from the state are not shorter\")"
      ],
      "metadata": {
        "colab": {
          "base_uri": "https://localhost:8080/"
        },
        "id": "x8L5OGH_aazR",
        "outputId": "225d1055-570c-442b-c0c6-65249fbb0112"
      },
      "execution_count": null,
      "outputs": [
        {
          "output_type": "stream",
          "name": "stdout",
          "text": [
            "P-Value: 0.18554668476134878\n",
            "Fail to reject the null hypothesis\n",
            "people from the state are not shorter\n"
          ]
        }
      ]
    },
    {
      "cell_type": "markdown",
      "source": [
        "# **Q2. Testing efficacy of improving GRE score**\n",
        "\n",
        "The verbal reasoning in the GRE has an average score of 150 and a standard deviation of 8.5.\n",
        "\n",
        "A coaching centre claims that their students are better. An average of 10 people showed that students from this coaching centre have an average score of 155.\n",
        "\n",
        "At a 5% significance level (or 95% confidence level), can we conclude that students from the coaching centre are better? Use the Z-test, and compute the p-value."
      ],
      "metadata": {
        "id": "bVOxaO1haWDv"
      }
    },
    {
      "cell_type": "code",
      "source": [
        "#H0: students from the coaching center are not better\n",
        "#Ha: students from the coaching center are better\n",
        "\n",
        "z = (155 - 150) / (8.5 / np.sqrt(10))\n",
        "pval = 1-norm.cdf(z)\n",
        "\n",
        "print(\"P-Value:\",pval)\n",
        "\n",
        "alpha = 0.05\n",
        "if pval < alpha:\n",
        "  print(\"Reject the null hypothesis\")\n",
        "  print(\"students from the coaching center are better\")\n",
        "else:\n",
        "  print(\"Fail to reject the null hypothesis\")\n",
        "  print(\"students from the coaching center are not better\")"
      ],
      "metadata": {
        "colab": {
          "base_uri": "https://localhost:8080/"
        },
        "id": "Yk9P3xIdbPcB",
        "outputId": "f45b5a3c-6d7b-429e-a71d-888b6fa6639c"
      },
      "execution_count": null,
      "outputs": [
        {
          "output_type": "stream",
          "name": "stdout",
          "text": [
            "P-Value: 0.031431210741779014\n",
            "Reject the null hypothesis\n",
            "students from the coaching center are better\n"
          ]
        }
      ]
    },
    {
      "cell_type": "markdown",
      "source": [
        "# **Q3. Pastries Produced Per Day**\n",
        "\n",
        "A French cafe has historically maintained that their average daily pastry production is at most 500.\n",
        "\n",
        "With the installation of a new machine, they assert that the average daily pastry production has increased. The average number of pastries produced per day over a 70-day period was found to be 530.\n",
        "\n",
        "Assume that the population standard deviation for the pastries produced per day is 125.\n",
        "\n",
        "Perform a z-test with the critical z-value = 1.64 at the alpha (significance level) = 0.05 to evaluate if there's sufficient evidence to support their claim of the new machine producing more than 500 pastries daily.\n",
        "\n",
        "Note: Round off the z-score to two decimal places."
      ],
      "metadata": {
        "id": "9zvFumVrbnnM"
      }
    },
    {
      "cell_type": "code",
      "source": [
        "#H0: There is not enough evidence to support the shop's claim\n",
        "#Ha: The shop's claim is supported by the data\n",
        "\n",
        "# Define sample mean, standard deviation, and sample size\n",
        "sample_mean = 530\n",
        "population_std = 125\n",
        "sample_size = 70\n",
        "population_mean = 500\n",
        "\n",
        "# Calculate z-score\n",
        "z_score = (sample_mean - population_mean) / (population_std / np.sqrt(sample_size))\n",
        "\n",
        "# Round z-score to two decimal places\n",
        "z_score = round(z_score, 2)\n",
        "print(f\"z-score: {z_score}\")\n",
        "\n",
        "# Set critical z-value and confidence level\n",
        "confidence_level = 0.95\n",
        "critical_z = norm.ppf(0.95)\n",
        "print(\"critical z-value:\",critical_z)\n",
        "\n",
        "# Check if the z-score is greater than the critical z-value\n",
        "\n",
        "if z_score > critical_z:\n",
        "    print(\"Reject the null hypothesis. The shop's claim is supported by the data.\")\n",
        "else:\n",
        "    print(\"Fail to reject the null hypothesis. There is not enough evidence to support the shop's claim.\")\n"
      ],
      "metadata": {
        "colab": {
          "base_uri": "https://localhost:8080/"
        },
        "id": "gLeJO1aobnK-",
        "outputId": "91f22f12-451e-443f-f7ab-a95182574b36"
      },
      "execution_count": null,
      "outputs": [
        {
          "output_type": "stream",
          "name": "stdout",
          "text": [
            "z-score: 2.01\n",
            "critical z-value: 1.6448536269514722\n",
            "Reject the null hypothesis. The shop's claim is supported by the data.\n"
          ]
        }
      ]
    },
    {
      "cell_type": "markdown",
      "source": [
        "# **Q4. India runs on Chai**\n",
        "\n",
        "The Chai Point stall at Bengaluru airport estimates that each person visiting the store drinks an average of 1.7 small cups of tea.\n",
        "\n",
        "Assume a population standard deviation of 0.5 small cups. A sample of 30 customers collected over a few days averaged 1.85 small cups of tea per person.\n",
        "\n",
        "Test the claim using an appropriate test at an alpha = 0.05 significance value, with a critical z-score value of ±1.96.\n",
        "\n",
        "Note: Round off the z-score to two decimal places."
      ],
      "metadata": {
        "id": "llhbX9N-ccdl"
      }
    },
    {
      "cell_type": "code",
      "source": [
        "#H0: There is not enough evidence to support the shop's claim\n",
        "#Ha: The shop's claim is supported by the data\n",
        "\n",
        "# Define sample mean, standard deviation, and sample size\n",
        "sample_mean = 1.85\n",
        "population_std = 0.5\n",
        "sample_size = 30\n",
        "population_mean = 1.7\n",
        "\n",
        "# Calculate z-score\n",
        "z_score = (sample_mean - population_mean) / (population_std / np.sqrt(sample_size))\n",
        "\n",
        "# Round z-score to two decimal places\n",
        "z_score = np.round(z_score, 2)\n",
        "\n",
        "# Set alpha and critical z-score (use two-tailed since direction is unknown)\n",
        "alpha = 0.05\n",
        "critical_z = 1.96\n",
        "\n",
        "# Check if the z-score is greater than the critical z-value\n",
        "if abs(z_score) > critical_z:\n",
        "   print(f\"z-score: {z_score}\")\n",
        "   print(\"Reject the null hypothesis. The average tea consumption is likely different from the estimate.\")\n",
        "else:\n",
        "   print(f\"z-score: {z_score}\")\n",
        "   print(\"Fail to reject the null hypothesis. There is not enough evidence to support a difference from the estimated average.\")"
      ],
      "metadata": {
        "colab": {
          "base_uri": "https://localhost:8080/"
        },
        "id": "KooePiWTcf9D",
        "outputId": "e2aa6948-efe9-4cb9-a6f8-2baaa10928e5"
      },
      "execution_count": null,
      "outputs": [
        {
          "output_type": "stream",
          "name": "stdout",
          "text": [
            "z-score: 1.64\n",
            "Fail to reject the null hypothesis. There is not enough evidence to support a difference from the estimated average.\n"
          ]
        }
      ]
    },
    {
      "cell_type": "markdown",
      "source": [
        "# **Q5. Water Regulation**\n",
        "\n",
        "The student hostel office at IIT Madras estimates that each student uses more than 3.5 buckets of water per day.\n",
        "\n",
        "In order to verify this claim, the college trustees decide to monitor the water consuption over the next 45 days, and it is found that on an average, 3.72 buckets of water is consumed by a student, per day.\n",
        "\n",
        "Assume that the population standard deviation is 0.7 buckets. What is the critical sample mean, assuming a critical z-value of 1.28?\n",
        "\n",
        "Note: The critical sample mean is defined as the mean value for which the z-score is equal to the critical value. Also, round off the final answer to three decimal places."
      ],
      "metadata": {
        "id": "Ywl_91q-ch-n"
      }
    },
    {
      "cell_type": "markdown",
      "source": [
        "Approach 1:\n",
        "z-score =  \n",
        "SEM\n",
        "(samplemean−populationmean)\n",
        "​\n",
        "\n",
        "\n",
        "where, SEM = standard error of the mean =  \n",
        "(\n",
        "​\n",
        " samplesize)\n",
        "populationstd\n",
        "​\n",
        "\n",
        "\n",
        "Rearranging the terms, we have ,\n",
        "\n",
        "sample_mean = (criticalz−value)×(S.E.M)+(populationmean)\n",
        "\n",
        "sample_mean=  \n",
        "(\n",
        "​\n",
        " 45)\n",
        "1.28×0.7\n",
        "​\n",
        "  + 3.5 = 1.28×0.1043+3.5 = 3.634"
      ],
      "metadata": {
        "id": "UMOSQjtJgBR-"
      }
    },
    {
      "cell_type": "code",
      "source": [
        "import math\n",
        "\n",
        "# Given values\n",
        "population_mean = 3.5\n",
        "population_std = 0.7\n",
        "critical_z_value = 1.28\n",
        "sample_size = 45\n",
        "\n",
        "# Calculate the critical sample mean\n",
        "critical_sample_mean = population_mean + (critical_z_value * (population_std / math.sqrt(sample_size)))\n",
        "\n",
        "# Round off the answer to three decimal places\n",
        "critical_sample_mean = round(critical_sample_mean, 3)\n",
        "print(\"Critical Sample Mean:\", critical_sample_mean)\n"
      ],
      "metadata": {
        "colab": {
          "base_uri": "https://localhost:8080/"
        },
        "id": "AS8rC99-clMa",
        "outputId": "28c8d568-d5cf-4e55-b728-5d6df2d41e99"
      },
      "execution_count": null,
      "outputs": [
        {
          "output_type": "stream",
          "name": "stdout",
          "text": [
            "Critical Sample Mean: 3.634\n"
          ]
        }
      ]
    }
  ]
}