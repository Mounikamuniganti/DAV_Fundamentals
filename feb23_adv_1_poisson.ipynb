{
  "nbformat": 4,
  "nbformat_minor": 0,
  "metadata": {
    "colab": {
      "provenance": [],
      "authorship_tag": "ABX9TyM1QnSKT21m3TH40ZKsr9N3",
      "include_colab_link": true
    },
    "kernelspec": {
      "name": "python3",
      "display_name": "Python 3"
    },
    "language_info": {
      "name": "python"
    }
  },
  "cells": [
    {
      "cell_type": "markdown",
      "metadata": {
        "id": "view-in-github",
        "colab_type": "text"
      },
      "source": [
        "<a href=\"https://colab.research.google.com/github/adityajain2407/feb23-dav-3/blob/main/feb23_adv_1_poisson.ipynb\" target=\"_parent\"><img src=\"https://colab.research.google.com/assets/colab-badge.svg\" alt=\"Open In Colab\"/></a>"
      ]
    },
    {
      "cell_type": "code",
      "execution_count": 2,
      "metadata": {
        "id": "e98Fp3N5VkxV"
      },
      "outputs": [],
      "source": [
        "import numpy as np\n",
        "import pandas as pd\n",
        "import matplotlib.pyplot as plt\n",
        "import seaborn as sns\n",
        "\n",
        "from scipy.stats import poisson, binom"
      ]
    },
    {
      "cell_type": "markdown",
      "source": [
        "#Accident\n"
      ],
      "metadata": {
        "id": "fbaEaH1Uc3TA"
      }
    },
    {
      "cell_type": "markdown",
      "source": [
        "A city sess 3 accidents per day on average.\n",
        "Find the prob that tehre will be 5 accidnets tomorrow"
      ],
      "metadata": {
        "id": "Rk3Tqw5Gc82w"
      }
    },
    {
      "cell_type": "code",
      "source": [
        "poisson.pmf(k = 5, mu = 3)"
      ],
      "metadata": {
        "colab": {
          "base_uri": "https://localhost:8080/"
        },
        "id": "SZCUAAYRcvTZ",
        "outputId": "7f334579-d659-4f9f-b608-07d82afc0744"
      },
      "execution_count": 3,
      "outputs": [
        {
          "output_type": "execute_result",
          "data": {
            "text/plain": [
              "0.10081881344492458"
            ]
          },
          "metadata": {},
          "execution_count": 3
        }
      ]
    },
    {
      "cell_type": "code",
      "source": [
        "#Find the probability that there willbe 5 or fewer accidnets tomorrow\n",
        "poisson.cdf(k=5, mu=3)"
      ],
      "metadata": {
        "colab": {
          "base_uri": "https://localhost:8080/"
        },
        "id": "JvV6DyEXdOKM",
        "outputId": "c1b9e921-b71b-4850-f682-0085c6d3cd0f"
      },
      "execution_count": 4,
      "outputs": [
        {
          "output_type": "execute_result",
          "data": {
            "text/plain": [
              "0.9160820579686966"
            ]
          },
          "metadata": {},
          "execution_count": 4
        }
      ]
    },
    {
      "cell_type": "markdown",
      "source": [
        "A shop is open for 8 hours. The average number of customers is 74 - assume Poisson distributed."
      ],
      "metadata": {
        "id": "nXpQuhPckb5T"
      }
    },
    {
      "cell_type": "markdown",
      "source": [
        "What is the probability that in 2 hours, there will be at most 15 customers?"
      ],
      "metadata": {
        "id": "tpEZqjaVkfaD"
      }
    },
    {
      "cell_type": "code",
      "source": [
        "#Customers visiting\n",
        "\n",
        "poisson.cdf(k=15, mu=18.5)"
      ],
      "metadata": {
        "colab": {
          "base_uri": "https://localhost:8080/"
        },
        "id": "3ai82sKxdehP",
        "outputId": "57d89e9e-7cde-4a8f-da59-84987f0c5c59"
      },
      "execution_count": 5,
      "outputs": [
        {
          "output_type": "execute_result",
          "data": {
            "text/plain": [
              "0.24902769151284776"
            ]
          },
          "metadata": {},
          "execution_count": 5
        }
      ]
    },
    {
      "cell_type": "markdown",
      "source": [
        "What is the probability that in 2 hours, there will be atleast 7 customers?"
      ],
      "metadata": {
        "id": "fxKYpu3RkicD"
      }
    },
    {
      "cell_type": "code",
      "source": [
        "1 - poisson.cdf(k=6, mu = 18.5)"
      ],
      "metadata": {
        "colab": {
          "base_uri": "https://localhost:8080/"
        },
        "id": "jKSJ32q0f7X6",
        "outputId": "cd356807-6d9e-46fb-8655-bab398fec643"
      },
      "execution_count": 6,
      "outputs": [
        {
          "output_type": "execute_result",
          "data": {
            "text/plain": [
              "0.9992622541111789"
            ]
          },
          "metadata": {},
          "execution_count": 6
        }
      ]
    },
    {
      "cell_type": "markdown",
      "source": [
        "What is the probability that in 2 hours, there will be more than 10 customers?"
      ],
      "metadata": {
        "id": "FIrQVI4zkqya"
      }
    },
    {
      "cell_type": "code",
      "source": [
        "# X > 10\n",
        "# 1 - p(x<=10)\n",
        "\n",
        "1 - poisson.cdf(k = 10, mu = 18.5)"
      ],
      "metadata": {
        "colab": {
          "base_uri": "https://localhost:8080/"
        },
        "id": "9jm4WaREkpPd",
        "outputId": "665fd68a-321e-40e0-d7f2-b2cd56ea2705"
      },
      "execution_count": 7,
      "outputs": [
        {
          "output_type": "execute_result",
          "data": {
            "text/plain": [
              "0.9763441581137625"
            ]
          },
          "metadata": {},
          "execution_count": 7
        }
      ]
    },
    {
      "cell_type": "markdown",
      "source": [
        "What is the probability that in 2 hours, there will be less than 6 customers?"
      ],
      "metadata": {
        "id": "jlxEUXlalHJw"
      }
    },
    {
      "cell_type": "code",
      "source": [
        "poisson.cdf(k=5, mu=18.5)"
      ],
      "metadata": {
        "colab": {
          "base_uri": "https://localhost:8080/"
        },
        "id": "A301hRUBlFpH",
        "outputId": "0f80cb2b-d1cc-4941-b7f0-bd18180e166d"
      },
      "execution_count": 8,
      "outputs": [
        {
          "output_type": "execute_result",
          "data": {
            "text/plain": [
              "0.0002234062935623501"
            ]
          },
          "metadata": {},
          "execution_count": 8
        }
      ]
    },
    {
      "cell_type": "markdown",
      "source": [
        "Kindergarden"
      ],
      "metadata": {
        "id": "v6rzLwOclW1a"
      }
    },
    {
      "cell_type": "markdown",
      "source": [
        "There are 80 students in a kinder garden class.\n",
        "Each one of them has 0.015 probability of forgetting their lunch on any given day.\n",
        "\n",
        "What is the average or expected number of students who forgot lunch in the class?"
      ],
      "metadata": {
        "id": "JXrqdumClaeO"
      }
    },
    {
      "cell_type": "code",
      "source": [
        "80*0.015 #rate"
      ],
      "metadata": {
        "colab": {
          "base_uri": "https://localhost:8080/"
        },
        "id": "rGM39-JJlSQE",
        "outputId": "e677908a-6413-4ad2-e6cd-ea496844e5b9"
      },
      "execution_count": 9,
      "outputs": [
        {
          "output_type": "execute_result",
          "data": {
            "text/plain": [
              "1.2"
            ]
          },
          "metadata": {},
          "execution_count": 9
        }
      ]
    },
    {
      "cell_type": "markdown",
      "source": [
        "What is the probability that exactly 3 of them will forget their lunch today?"
      ],
      "metadata": {
        "id": "OEuFUHjHlx0N"
      }
    },
    {
      "cell_type": "code",
      "source": [
        "poisson.pmf(k = 3, mu = 1.2)"
      ],
      "metadata": {
        "colab": {
          "base_uri": "https://localhost:8080/"
        },
        "id": "MVo8OUD6lvTg",
        "outputId": "3e8787f6-bb9e-40f8-f490-58cb9f8ed081"
      },
      "execution_count": 10,
      "outputs": [
        {
          "output_type": "execute_result",
          "data": {
            "text/plain": [
              "0.08674393303071422"
            ]
          },
          "metadata": {},
          "execution_count": 10
        }
      ]
    },
    {
      "cell_type": "code",
      "source": [
        "binom.pmf(k = 3, n = 80, p = 0.015) #n is large, p is small, np = mu -->"
      ],
      "metadata": {
        "colab": {
          "base_uri": "https://localhost:8080/"
        },
        "id": "UmL_Esa1mBjd",
        "outputId": "ab40a1fe-4480-423f-baf3-b46a8123f737"
      },
      "execution_count": 11,
      "outputs": [
        {
          "output_type": "execute_result",
          "data": {
            "text/plain": [
              "0.08660120920447557"
            ]
          },
          "metadata": {},
          "execution_count": 11
        }
      ]
    },
    {
      "cell_type": "markdown",
      "source": [
        "Poisson Distribution"
      ],
      "metadata": {
        "id": "tLQaIOpIm4bM"
      }
    },
    {
      "cell_type": "code",
      "source": [
        "mu = 2.5\n",
        "x_values = np.arange(0,10)\n",
        "\n",
        "y_values = poisson.pmf(x_values, mu = mu)\n",
        "sns.barplot(x = x_values, y = y_values)"
      ],
      "metadata": {
        "colab": {
          "base_uri": "https://localhost:8080/",
          "height": 448
        },
        "id": "ibqx3CFkmRCK",
        "outputId": "f14e039a-f584-4bbc-bf9f-d1d7185feac2"
      },
      "execution_count": 12,
      "outputs": [
        {
          "output_type": "execute_result",
          "data": {
            "text/plain": [
              "<Axes: >"
            ]
          },
          "metadata": {},
          "execution_count": 12
        },
        {
          "output_type": "display_data",
          "data": {
            "text/plain": [
              "<Figure size 640x480 with 1 Axes>"
            ],
            "image/png": "[encoded data removed]"
          },
          "metadata": {}
        }
      ]
    },
    {
      "cell_type": "code",
      "source": [
        "mu = 2.5\n",
        "x_values = np.arange(0,30)\n",
        "\n",
        "y_values = poisson.pmf(x_values, mu = mu)\n",
        "sns.barplot(x = x_values, y = y_values)"
      ],
      "metadata": {
        "colab": {
          "base_uri": "https://localhost:8080/",
          "height": 448
        },
        "id": "3ZyuvrxAnN4s",
        "outputId": "d62f0720-3a07-4ccf-f74a-3aafd8000b58"
      },
      "execution_count": 13,
      "outputs": [
        {
          "output_type": "execute_result",
          "data": {
            "text/plain": [
              "<Axes: >"
            ]
          },
          "metadata": {},
          "execution_count": 13
        },
        {
          "output_type": "display_data",
          "data": {
            "text/plain": [
              "<Figure size 640x480 with 1 Axes>"
            ],
            "image/png": "[encoded data removed]"
          },
          "metadata": {}
        }
      ]
    },
    {
      "cell_type": "code",
      "source": [
        "mu = 15\n",
        "x_values = np.arange(0,30)\n",
        "\n",
        "y_values = poisson.pmf(x_values, mu = mu)\n",
        "sns.barplot(x = x_values, y = y_values)"
      ],
      "metadata": {
        "colab": {
          "base_uri": "https://localhost:8080/",
          "height": 448
        },
        "id": "80ZRjJREnkpY",
        "outputId": "ea6baa73-902a-4812-8a90-7cc0b0f951ed"
      },
      "execution_count": 14,
      "outputs": [
        {
          "output_type": "execute_result",
          "data": {
            "text/plain": [
              "<Axes: >"
            ]
          },
          "metadata": {},
          "execution_count": 14
        },
        {
          "output_type": "display_data",
          "data": {
            "text/plain": [
              "<Figure size 640x480 with 1 Axes>"
            ],
            "image/png": "[encoded data removed]"
          },
          "metadata": {}
        }
      ]
    },
    {
      "cell_type": "code",
      "source": [
        "mu = 2.5\n",
        "x_values = np.arange(0,10)\n",
        "\n",
        "y_values = poisson.pmf(x_values, mu = mu)\n",
        "sns.barplot(x = x_values, y = y_values)"
      ],
      "metadata": {
        "colab": {
          "base_uri": "https://localhost:8080/",
          "height": 448
        },
        "id": "8oXZ5Lm1ntyi",
        "outputId": "2c2ae142-b8fa-4434-c7a8-be2d25d2a4bf"
      },
      "execution_count": 15,
      "outputs": [
        {
          "output_type": "execute_result",
          "data": {
            "text/plain": [
              "<Axes: >"
            ]
          },
          "metadata": {},
          "execution_count": 15
        },
        {
          "output_type": "display_data",
          "data": {
            "text/plain": [
              "<Figure size 640x480 with 1 Axes>"
            ],
            "image/png": "[encoded data removed]"
          },
          "metadata": {}
        }
      ]
    },
    {
      "cell_type": "code",
      "source": [
        "y_values"
      ],
      "metadata": {
        "colab": {
          "base_uri": "https://localhost:8080/"
        },
        "id": "atquO4hgn6oS",
        "outputId": "7e610601-6074-4a43-e631-c907c036ccef"
      },
      "execution_count": 16,
      "outputs": [
        {
          "output_type": "execute_result",
          "data": {
            "text/plain": [
              "array([0.082085  , 0.2052125 , 0.25651562, 0.21376302, 0.13360189,\n",
              "       0.06680094, 0.02783373, 0.00994062, 0.00310644, 0.0008629 ])"
            ]
          },
          "metadata": {},
          "execution_count": 16
        }
      ]
    },
    {
      "cell_type": "code",
      "source": [],
      "metadata": {
        "id": "zU7Fo73yn7pH"
      },
      "execution_count": null,
      "outputs": []
    },
    {
      "cell_type": "markdown",
      "source": [
        "Typo Example"
      ],
      "metadata": {
        "id": "hkI7BIuEoDkh"
      }
    },
    {
      "cell_type": "markdown",
      "source": [
        "Let “X” be the number of typos in a page in a printed book, with mean 3 typos per page. What is the probability that a randomly selected page has at most 1 typo?"
      ],
      "metadata": {
        "id": "vwbuXJNtoGYM"
      }
    },
    {
      "cell_type": "code",
      "source": [
        "#cdf\n",
        "\n",
        "poisson.cdf(k = 1, mu = 3)"
      ],
      "metadata": {
        "colab": {
          "base_uri": "https://localhost:8080/"
        },
        "id": "LDwEzxhDoEic",
        "outputId": "fbb8f5f6-7c64-4b35-a94c-ecfbe91d0481"
      },
      "execution_count": 17,
      "outputs": [
        {
          "output_type": "execute_result",
          "data": {
            "text/plain": [
              "0.1991482734714558"
            ]
          },
          "metadata": {},
          "execution_count": 17
        }
      ]
    },
    {
      "cell_type": "code",
      "source": [
        "#prob of exactly 0 typos + prob of exactly 1 typo\n",
        "poisson.pmf(k = 0, mu = 3)  + poisson.pmf(k=1, mu =3)\n"
      ],
      "metadata": {
        "colab": {
          "base_uri": "https://localhost:8080/"
        },
        "id": "wpCmBF3zpDFF",
        "outputId": "70e3c9b0-9d15-4305-eb4a-794242c4d831"
      },
      "execution_count": 18,
      "outputs": [
        {
          "output_type": "execute_result",
          "data": {
            "text/plain": [
              "0.1991482734714558"
            ]
          },
          "metadata": {},
          "execution_count": 18
        }
      ]
    },
    {
      "cell_type": "markdown",
      "source": [
        "#Messages"
      ],
      "metadata": {
        "id": "JcOwdWVLpcLC"
      }
    },
    {
      "cell_type": "markdown",
      "source": [
        "You receive 240 messages per hour on average - assume Poisson distributed.\n",
        "\n",
        "What is the probability of one message arriving over a 30 second time interval?"
      ],
      "metadata": {
        "id": "A4TPcEgVpfV5"
      }
    },
    {
      "cell_type": "code",
      "source": [
        "rate = 240*30/3600\n",
        "rate"
      ],
      "metadata": {
        "colab": {
          "base_uri": "https://localhost:8080/"
        },
        "id": "GXtoacVUpW9J",
        "outputId": "9e51553d-ca9f-40a9-cf7e-d2ba8b16eff8"
      },
      "execution_count": 20,
      "outputs": [
        {
          "output_type": "execute_result",
          "data": {
            "text/plain": [
              "2.0"
            ]
          },
          "metadata": {},
          "execution_count": 20
        }
      ]
    },
    {
      "cell_type": "code",
      "source": [
        "poisson.pmf( k = 1, mu = rate)"
      ],
      "metadata": {
        "colab": {
          "base_uri": "https://localhost:8080/"
        },
        "id": "mqmKwlbjq0Yh",
        "outputId": "56691f7d-7634-4582-a055-b48c5c6cff86"
      },
      "execution_count": 21,
      "outputs": [
        {
          "output_type": "execute_result",
          "data": {
            "text/plain": [
              "0.2706705664732254"
            ]
          },
          "metadata": {},
          "execution_count": 21
        }
      ]
    },
    {
      "cell_type": "markdown",
      "source": [
        "What is the probability that there are no messages in 15 seconds?"
      ],
      "metadata": {
        "id": "BF7LyKXPrDlq"
      }
    },
    {
      "cell_type": "code",
      "source": [
        "rate = 15*240/3600\n",
        "rate"
      ],
      "metadata": {
        "colab": {
          "base_uri": "https://localhost:8080/"
        },
        "id": "1KocNUJPq-1U",
        "outputId": "01c6d216-3a06-4b5b-a65c-b7bac3401903"
      },
      "execution_count": 22,
      "outputs": [
        {
          "output_type": "execute_result",
          "data": {
            "text/plain": [
              "1.0"
            ]
          },
          "metadata": {},
          "execution_count": 22
        }
      ]
    },
    {
      "cell_type": "code",
      "source": [
        "poisson.pmf(k = 0, mu = rate)"
      ],
      "metadata": {
        "colab": {
          "base_uri": "https://localhost:8080/"
        },
        "id": "1HtHoTuQrZp1",
        "outputId": "06307838-d616-4b0d-b6ec-e3fdc4a87f4a"
      },
      "execution_count": 23,
      "outputs": [
        {
          "output_type": "execute_result",
          "data": {
            "text/plain": [
              "0.36787944117144233"
            ]
          },
          "metadata": {},
          "execution_count": 23
        }
      ]
    },
    {
      "cell_type": "code",
      "source": [],
      "metadata": {
        "id": "YXnRiIKordtF"
      },
      "execution_count": null,
      "outputs": []
    }
  ]
}