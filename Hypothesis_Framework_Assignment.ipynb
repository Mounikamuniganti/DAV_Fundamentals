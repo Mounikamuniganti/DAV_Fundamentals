{
  "nbformat": 4,
  "nbformat_minor": 0,
  "metadata": {
    "colab": {
      "provenance": [],
      "authorship_tag": "ABX9TyMUauUw9tSJYwV/xXPOBjBV",
      "include_colab_link": true
    },
    "kernelspec": {
      "name": "python3",
      "display_name": "Python 3"
    },
    "language_info": {
      "name": "python"
    }
  },
  "cells": [
    {
      "cell_type": "markdown",
      "metadata": {
        "id": "view-in-github",
        "colab_type": "text"
      },
      "source": [
        "<a href=\"https://colab.research.google.com/github/Mounikamuniganti/DAV_Fundamentals/blob/main/Hypothesis_Framework_Assignment.ipynb\" target=\"_parent\"><img src=\"https://colab.research.google.com/assets/colab-badge.svg\" alt=\"Open In Colab\"/></a>"
      ]
    },
    {
      "cell_type": "markdown",
      "source": [
        "Q1. Frame work for weight loss\n",
        "\n",
        "A group of people have volunteered to try out a diet for weight loss for 3 months.\n",
        "\n",
        "How should the null and alternate hypotheses be set up? **bold text**"
      ],
      "metadata": {
        "id": "gc1uq2GrgbtC"
      }
    },
    {
      "cell_type": "code",
      "source": [
        "H0: Diet has no impact on weight; Ha: Diet reduces weight"
      ],
      "metadata": {
        "id": "IfY026_sgjlj"
      },
      "execution_count": null,
      "outputs": []
    },
    {
      "cell_type": "markdown",
      "source": [
        "Q2. Framework for Virus test\n",
        "\n",
        "A test is done to detect if a person has a virus.\n",
        "\n",
        "What is the null (H0) and alternate (Ha) hypothesis?\n",
        "\n"
      ],
      "metadata": {
        "id": "eAk3aFoHgk87"
      }
    },
    {
      "cell_type": "code",
      "source": [
        "H0: Patient has no virus; Ha: Patient has virus"
      ],
      "metadata": {
        "id": "GouQg0hKg3vS"
      },
      "execution_count": null,
      "outputs": []
    },
    {
      "cell_type": "markdown",
      "source": [
        "Q3. Frame work for GRE verbal reasoning\n",
        "\n",
        "The verbal reasoning section in the GRE exam, has an average score of 150 and a standard deviation of 8.5.\n",
        "\n",
        "A coaching centre claims to improve these numbers for their students. How should the null and alternate hypotheses be set up?"
      ],
      "metadata": {
        "id": "888RNq4HgzDh"
      }
    },
    {
      "cell_type": "code",
      "source": [
        "H0: Coaching does not improve score; Ha: Coaching improves score"
      ],
      "metadata": {
        "id": "zp3EPvLKg8q4"
      },
      "execution_count": null,
      "outputs": []
    },
    {
      "cell_type": "markdown",
      "source": [
        "Q4. Marketing the shampoo brand\n",
        "\n",
        "Weekly sales of shampoo bottles has an average of 1800 . A marketing company feels that this can be improved with right advertisement and promotions.\n",
        "\n",
        "What should be the null and alternate hypothesis, in order to validate their claim?\n",
        "\n",
        "Let μ denote the average sales after marketing.\n",
        "\n",
        "i). H\n",
        "0\n",
        "​\n",
        " :μ≤1800 and H\n",
        "a\n",
        "​\n",
        " :μ=1800\n",
        "\n",
        "ii). H\n",
        "0\n",
        "​\n",
        " :μ<1800 and H\n",
        "a\n",
        "​\n",
        " :μ≥1800\n",
        "\n",
        "iii). H\n",
        "0\n",
        "​\n",
        " :μ=1800 and H\n",
        "a\n",
        "​\n",
        " :μ\n",
        "\n",
        "​\n",
        " =1800\n",
        "\n",
        "iv). H\n",
        "0\n",
        "​\n",
        " :μ=1800 and H\n",
        "a\n",
        "​\n",
        " :μ>1800"
      ],
      "metadata": {
        "id": "yVmmnKRtgz6z"
      }
    },
    {
      "cell_type": "code",
      "source": [
        "iv)"
      ],
      "metadata": {
        "id": "veRNW_dAhC0H"
      },
      "execution_count": null,
      "outputs": []
    },
    {
      "cell_type": "markdown",
      "source": [
        "Q5. Judge the right way\n",
        "\n",
        "In a court case, the null hypothesis is that the defendant is innocent.\n",
        "\n",
        "Identify the Type-2 error among the following."
      ],
      "metadata": {
        "id": "oOo6KflvhHyP"
      }
    },
    {
      "cell_type": "code",
      "source": [
        "The defendant is guilty, but the judge pronounces him innocent"
      ],
      "metadata": {
        "id": "MSbMhnBFhK4R"
      },
      "execution_count": null,
      "outputs": []
    },
    {
      "cell_type": "markdown",
      "source": [
        "Q6. Ride the bike\n",
        "\n",
        "When you ride your bike, the null hypothesis H0 is that the bike is safe to drive.\n",
        "\n",
        "Which of these is a Type-1 error?\n"
      ],
      "metadata": {
        "id": "8yvT3SzphNJ2"
      }
    },
    {
      "cell_type": "code",
      "source": [
        "The bike is safe, but you think it is not safe"
      ],
      "metadata": {
        "id": "r2a60uI0hZAN"
      },
      "execution_count": null,
      "outputs": []
    }
  ]
}